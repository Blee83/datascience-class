{
 "metadata": {
  "name": "",
  "signature": "sha256:0714339bc919f923262abd8a31b988d58a819a1ad93712b1c9fee31f6e23cd1f"
 },
 "nbformat": 3,
 "nbformat_minor": 0,
 "worksheets": [
  {
   "cells": [
    {
     "cell_type": "markdown",
     "metadata": {},
     "source": [
      "### pandas\n",
      "\n",
      "- ####read csv data and pickled data\n",
      "    - WRI csv data\n",
      "    - pickled CDP data\n",
      "- ####dataframes\n",
      "    - http://pandas.pydata.org/pandas-docs/stable/basics.html\n",
      "    - series is one column\n",
      "- ####select data\n",
      "    - http://pandas.pydata.org/pandas-docs/stable/indexing.html\n",
      "    - get rows\n",
      "    - columns\n",
      "    - isin\n",
      "- ####python modules\n",
      "    - functions\n",
      "- ####pickle"
     ]
    },
    {
     "cell_type": "code",
     "collapsed": false,
     "input": [
      "import pandas as pd"
     ],
     "language": "python",
     "metadata": {},
     "outputs": []
    }
   ],
   "metadata": {}
  }
 ]
}